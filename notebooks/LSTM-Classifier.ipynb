{
  "cells": [
    {
      "cell_type": "code",
      "source": [
        "import numpy as np\n",
        "import pandas as pd"
      ],
      "outputs": [],
      "execution_count": 2,
      "metadata": {}
    },
    {
      "cell_type": "code",
      "source": [
        "df = pd.read_csv(\"./tos.csv\")"
      ],
      "outputs": [],
      "execution_count": 3,
      "metadata": {}
    },
    {
      "cell_type": "code",
      "source": [
        "df"
      ],
      "outputs": [],
      "execution_count": null,
      "metadata": {}
    },
    {
      "cell_type": "code",
      "source": [
        "df = df.drop(\"Unnamed: 0\", axis=1)"
      ],
      "outputs": [],
      "execution_count": 5,
      "metadata": {}
    },
    {
      "cell_type": "code",
      "source": [
        "df.head()"
      ],
      "outputs": [
        {
          "output_type": "execute_result",
          "execution_count": 6,
          "data": {
            "text/html": [
              "<div>\n",
              "<style scoped>\n",
              "    .dataframe tbody tr th:only-of-type {\n",
              "        vertical-align: middle;\n",
              "    }\n",
              "\n",
              "    .dataframe tbody tr th {\n",
              "        vertical-align: top;\n",
              "    }\n",
              "\n",
              "    .dataframe thead th {\n",
              "        text-align: right;\n",
              "    }\n",
              "</style>\n",
              "<table border=\"1\" class=\"dataframe\">\n",
              "  <thead>\n",
              "    <tr style=\"text-align: right;\">\n",
              "      <th></th>\n",
              "      <th>data</th>\n",
              "      <th>score</th>\n",
              "      <th>class</th>\n",
              "      <th>filename</th>\n",
              "    </tr>\n",
              "  </thead>\n",
              "  <tbody>\n",
              "    <tr>\n",
              "      <th>0</th>\n",
              "      <td>signal does not sell, rent or monetize your pe...</td>\n",
              "      <td>25</td>\n",
              "      <td>good</td>\n",
              "      <td>signal.json</td>\n",
              "    </tr>\n",
              "    <tr>\n",
              "      <th>1</th>\n",
              "      <td>you must be at least 13 years old to use our s...</td>\n",
              "      <td>15</td>\n",
              "      <td>neutral</td>\n",
              "      <td>signal.json</td>\n",
              "    </tr>\n",
              "    <tr>\n",
              "      <th>2</th>\n",
              "      <td>you agree to resolve any claim you have with u...</td>\n",
              "      <td>0</td>\n",
              "      <td>neutral</td>\n",
              "      <td>signal.json</td>\n",
              "    </tr>\n",
              "    <tr>\n",
              "      <th>3</th>\n",
              "      <td>we may modify, suspend, or terminate your acce...</td>\n",
              "      <td>60</td>\n",
              "      <td>bad</td>\n",
              "      <td>signal.json</td>\n",
              "    </tr>\n",
              "    <tr>\n",
              "      <th>4</th>\n",
              "      <td>we work with third parties to provide some of ...</td>\n",
              "      <td>15</td>\n",
              "      <td>bad</td>\n",
              "      <td>signal.json</td>\n",
              "    </tr>\n",
              "  </tbody>\n",
              "</table>\n",
              "</div>"
            ],
            "text/plain": [
              "                                                data  score    class  \\\n",
              "0  signal does not sell, rent or monetize your pe...     25     good   \n",
              "1  you must be at least 13 years old to use our s...     15  neutral   \n",
              "2  you agree to resolve any claim you have with u...      0  neutral   \n",
              "3  we may modify, suspend, or terminate your acce...     60      bad   \n",
              "4  we work with third parties to provide some of ...     15      bad   \n",
              "\n",
              "      filename  \n",
              "0  signal.json  \n",
              "1  signal.json  \n",
              "2  signal.json  \n",
              "3  signal.json  \n",
              "4  signal.json  "
            ]
          },
          "metadata": {}
        }
      ],
      "execution_count": 6,
      "metadata": {}
    },
    {
      "cell_type": "code",
      "source": [
        "import torch\n",
        "import torch.nn as nn\n",
        "import torch.nn.functional as F\n",
        "import torch.optim as optim\n",
        "import string"
      ],
      "outputs": [],
      "execution_count": 7,
      "metadata": {}
    },
    {
      "cell_type": "code",
      "source": [
        "torch.manual_seed(420)\n",
        "torch.cuda.is_available()\n",
        "    "
      ],
      "outputs": [
        {
          "output_type": "execute_result",
          "execution_count": 8,
          "data": {
            "text/plain": [
              "True"
            ]
          },
          "metadata": {}
        }
      ],
      "execution_count": 8,
      "metadata": {}
    },
    {
      "cell_type": "code",
      "source": [
        "def prepare_tokens(text):\n",
        "    if isinstance(text, str):\n",
        "#         print(f\"======={text}\")\n",
        "        text = text.split()\n",
        "        table = str.maketrans('', '', string.punctuation)\n",
        "        tokens = [w.translate(table) for w in text]\n",
        "        \n",
        "        return ' '.join(tokens)\n",
        "    else:\n",
        "        return None"
      ],
      "outputs": [],
      "execution_count": 9,
      "metadata": {}
    },
    {
      "cell_type": "code",
      "source": [
        "df['tokens'] = df['data'].apply(prepare_tokens)"
      ],
      "outputs": [],
      "execution_count": 10,
      "metadata": {}
    },
    {
      "cell_type": "code",
      "source": [
        "df.head()"
      ],
      "outputs": [
        {
          "output_type": "execute_result",
          "execution_count": 11,
          "data": {
            "text/html": [
              "<div>\n",
              "<style scoped>\n",
              "    .dataframe tbody tr th:only-of-type {\n",
              "        vertical-align: middle;\n",
              "    }\n",
              "\n",
              "    .dataframe tbody tr th {\n",
              "        vertical-align: top;\n",
              "    }\n",
              "\n",
              "    .dataframe thead th {\n",
              "        text-align: right;\n",
              "    }\n",
              "</style>\n",
              "<table border=\"1\" class=\"dataframe\">\n",
              "  <thead>\n",
              "    <tr style=\"text-align: right;\">\n",
              "      <th></th>\n",
              "      <th>data</th>\n",
              "      <th>score</th>\n",
              "      <th>class</th>\n",
              "      <th>filename</th>\n",
              "      <th>tokens</th>\n",
              "    </tr>\n",
              "  </thead>\n",
              "  <tbody>\n",
              "    <tr>\n",
              "      <th>0</th>\n",
              "      <td>signal does not sell, rent or monetize your pe...</td>\n",
              "      <td>25</td>\n",
              "      <td>good</td>\n",
              "      <td>signal.json</td>\n",
              "      <td>signal does not sell rent or monetize your per...</td>\n",
              "    </tr>\n",
              "    <tr>\n",
              "      <th>1</th>\n",
              "      <td>you must be at least 13 years old to use our s...</td>\n",
              "      <td>15</td>\n",
              "      <td>neutral</td>\n",
              "      <td>signal.json</td>\n",
              "      <td>you must be at least 13 years old to use our s...</td>\n",
              "    </tr>\n",
              "    <tr>\n",
              "      <th>2</th>\n",
              "      <td>you agree to resolve any claim you have with u...</td>\n",
              "      <td>0</td>\n",
              "      <td>neutral</td>\n",
              "      <td>signal.json</td>\n",
              "      <td>you agree to resolve any claim you have with u...</td>\n",
              "    </tr>\n",
              "    <tr>\n",
              "      <th>3</th>\n",
              "      <td>we may modify, suspend, or terminate your acce...</td>\n",
              "      <td>60</td>\n",
              "      <td>bad</td>\n",
              "      <td>signal.json</td>\n",
              "      <td>we may modify suspend or terminate your access...</td>\n",
              "    </tr>\n",
              "    <tr>\n",
              "      <th>4</th>\n",
              "      <td>we work with third parties to provide some of ...</td>\n",
              "      <td>15</td>\n",
              "      <td>bad</td>\n",
              "      <td>signal.json</td>\n",
              "      <td>we work with third parties to provide some of ...</td>\n",
              "    </tr>\n",
              "  </tbody>\n",
              "</table>\n",
              "</div>"
            ],
            "text/plain": [
              "                                                data  score    class  \\\n",
              "0  signal does not sell, rent or monetize your pe...     25     good   \n",
              "1  you must be at least 13 years old to use our s...     15  neutral   \n",
              "2  you agree to resolve any claim you have with u...      0  neutral   \n",
              "3  we may modify, suspend, or terminate your acce...     60      bad   \n",
              "4  we work with third parties to provide some of ...     15      bad   \n",
              "\n",
              "      filename                                             tokens  \n",
              "0  signal.json  signal does not sell rent or monetize your per...  \n",
              "1  signal.json  you must be at least 13 years old to use our s...  \n",
              "2  signal.json  you agree to resolve any claim you have with u...  \n",
              "3  signal.json  we may modify suspend or terminate your access...  \n",
              "4  signal.json  we work with third parties to provide some of ...  "
            ]
          },
          "metadata": {}
        }
      ],
      "execution_count": 11,
      "metadata": {}
    },
    {
      "cell_type": "code",
      "source": [
        "%matplotlib inline\n",
        "df['class_id'] = 0\n",
        "df.loc[df[\"class\"]==\"neutral\", \"class_id\"] = 1\n",
        "df.loc[df[\"class\"]==\"good\", \"class_id\"] = 2\n",
        "df.loc[df[\"class\"]==\"blocker\", \"class_id\"] = 3"
      ],
      "outputs": [],
      "execution_count": 12,
      "metadata": {}
    },
    {
      "cell_type": "code",
      "source": [
        "df.class_id.hist()"
      ],
      "outputs": [
        {
          "output_type": "execute_result",
          "execution_count": 13,
          "data": {
            "text/plain": [
              "<matplotlib.axes._subplots.AxesSubplot at 0x7ffac29f8240>"
            ]
          },
          "metadata": {}
        },
        {
          "output_type": "display_data",
          "data": {
            "image/png": "[encoded data removed]",
            "text/plain": [
              "<Figure size 432x288 with 1 Axes>"
            ]
          },
          "metadata": {}
        }
      ],
      "execution_count": 13,
      "metadata": {}
    },
    {
      "cell_type": "code",
      "source": [
        "df = df.loc[df.class_id != 3]"
      ],
      "outputs": [],
      "execution_count": 14,
      "metadata": {}
    },
    {
      "cell_type": "code",
      "source": [
        "df.shape"
      ],
      "outputs": [
        {
          "output_type": "execute_result",
          "execution_count": 15,
          "data": {
            "text/plain": [
              "(2397, 6)"
            ]
          },
          "metadata": {}
        }
      ],
      "execution_count": 15,
      "metadata": {}
    },
    {
      "cell_type": "code",
      "source": [
        "# tokenizer = get_tokenizer(\"basic_english\")\n",
        "\n",
        "word_to_ix = {'PAD': 0}\n",
        "for sent in df.tokens.tolist():\n",
        "    if sent:\n",
        "#         print(sent)\n",
        "        for word in sent.split():\n",
        "            if word not in word_to_ix:\n",
        "                word_to_ix[word] = len(word_to_ix)\n",
        "# print(word_to_ix)\n",
        "tag_to_ix = {\"bad\": 0, \"neutral\": 1, \"good\": 2, \"blocker\": 3}"
      ],
      "outputs": [],
      "execution_count": 16,
      "metadata": {}
    },
    {
      "cell_type": "code",
      "source": [
        "word_to_ix"
      ],
      "outputs": [],
      "execution_count": null,
      "metadata": {}
    },
    {
      "cell_type": "code",
      "source": [
        "len(word_to_ix)"
      ],
      "outputs": [
        {
          "output_type": "execute_result",
          "execution_count": 18,
          "data": {
            "text/plain": [
              "6250"
            ]
          },
          "metadata": {}
        }
      ],
      "execution_count": 18,
      "metadata": {}
    },
    {
      "cell_type": "code",
      "source": [
        "EMBEDDING_DIM = 128\n",
        "HIDDEN_DIM = 256\n",
        "BATCH_SIZE = 16"
      ],
      "outputs": [],
      "execution_count": 19,
      "metadata": {}
    },
    {
      "cell_type": "code",
      "source": [
        "class TOSClaasifier(nn.Module):\n",
        "    def __init__(self, embedding_dim, hidden_dim, vocab_size, target_size, batch_size):\n",
        "        super(TOSClaasifier, self).__init__()\n",
        "        self.hidden_dim = hidden_dim\n",
        "        self.target_size = target_size\n",
        "        \n",
        "        self.word_embeddings = nn.Embedding(vocab_size, embedding_dim)\n",
        "        self.LSTM = nn.LSTM(embedding_dim, hidden_dim, batch_first=True, dropout=0.3, num_layers=2)\n",
        "        \n",
        "        self.h1 = nn.Linear(hidden_dim*150, 512)\n",
        "        self.hidden2tag = nn.Linear(512, target_size)\n",
        "        self.batch_size = batch_size\n",
        "        self.embed_dim = embedding_dim\n",
        "        \n",
        "\n",
        "    def forward(self, sentence):\n",
        "#         print(sentence.shape)\n",
        "        embeds = self.word_embeddings(sentence.view(self.batch_size,-1))\n",
        "#         print(embeds.shape)\n",
        "        lstm_out, _ = self.LSTM(embeds.view(self.batch_size, 150, self.embed_dim))\n",
        "#         print(lstm_out.shape)\n",
        "        lstm_out = lstm_out.contiguous().view(self.batch_size,-1)\n",
        "#         print(lstm_out.shape)\n",
        "        tag_space = self.h1(lstm_out)\n",
        "#         print(tag_space.shape)\n",
        "\n",
        "        tag_space = self.hidden2tag(tag_space)\n",
        "#         print(tag_space.shape)\n",
        "        \n",
        "#         tag_score = F.log_softmax(tag_space.view(self.batch_size, -1, self.target_size))\n",
        "        tag_score = F.log_softmax(tag_space, dim=0)\n",
        "        tag_score = tag_score.view(self.batch_size, self.target_size)\n",
        "#         print(tag_score)\n",
        "#         tag_score = tag_score[:, -1] # get last batch of labels\n",
        "        return tag_score\n",
        "        "
      ],
      "outputs": [],
      "execution_count": 20,
      "metadata": {}
    },
    {
      "cell_type": "code",
      "source": [
        "model = TOSClaasifier(EMBEDDING_DIM, HIDDEN_DIM, len(word_to_ix), 3, BATCH_SIZE)\n",
        "model = model.cuda()\n"
      ],
      "outputs": [],
      "execution_count": 21,
      "metadata": {}
    },
    {
      "cell_type": "code",
      "source": [
        "loss_fn = nn.NLLLoss().cuda()\n",
        "# optimizer = optim.SGD(model.parameters(), lr=0.1)\n",
        "# scheduler = optim.lr_scheduler.StepLR(optimizer, step_size=6, gamma=0.1)\n",
        "\n",
        "# optimizer = optim.RMSprop(model.parameters())\n",
        "optimizer = optim.Adam(model.parameters())"
      ],
      "outputs": [],
      "execution_count": 22,
      "metadata": {}
    },
    {
      "cell_type": "code",
      "source": [
        "def prepare_sequence(seq, to_ix):\n",
        "    idxs = [to_ix[w] for w in seq.split()]\n",
        "    return torch.tensor(idxs, dtype=torch.long)"
      ],
      "outputs": [],
      "execution_count": 23,
      "metadata": {}
    },
    {
      "cell_type": "code",
      "source": [
        "print(model)"
      ],
      "outputs": [
        {
          "output_type": "stream",
          "name": "stdout",
          "text": [
            "TOSClaasifier(\n",
            "  (word_embeddings): Embedding(6250, 128)\n",
            "  (LSTM): LSTM(128, 256, num_layers=2, batch_first=True, dropout=0.3)\n",
            "  (h1): Linear(in_features=38400, out_features=512, bias=True)\n",
            "  (hidden2tag): Linear(in_features=512, out_features=3, bias=True)\n",
            ")\n"
          ]
        }
      ],
      "execution_count": 24,
      "metadata": {}
    },
    {
      "cell_type": "code",
      "source": [
        "df = df.loc[~df.tokens.isna()]"
      ],
      "outputs": [],
      "execution_count": 25,
      "metadata": {}
    },
    {
      "cell_type": "code",
      "source": [
        "def pad_features(reviews_int, seq_length):\n",
        "    ''' Return features of review_ints, where each review is padded with 0's or truncated to the input seq_length.\n",
        "    '''\n",
        "    features = np.zeros((len(reviews_int), seq_length), dtype = int)\n",
        "    \n",
        "    for i, review in enumerate(reviews_int):\n",
        "        review_len = len(review)\n",
        "        \n",
        "        if review_len <= seq_length:\n",
        "            zeroes = np.zeros(seq_length-review_len).astype(np.int)\n",
        "#             print(zeroes)\n",
        "#             print(review.numpy())\n",
        "            new = np.concatenate((review.numpy(),zeroes), axis=None)\n",
        "        elif review_len > seq_length:\n",
        "            new = review[0:seq_length]\n",
        "        \n",
        "        features[i,:] = np.array(new)\n",
        "    \n",
        "    return features"
      ],
      "outputs": [],
      "execution_count": 26,
      "metadata": {}
    },
    {
      "cell_type": "code",
      "source": [
        "seq_ids = df.tokens.apply(prepare_sequence, args=[word_to_ix]).tolist()\n",
        "label_ids = df['class'].apply(prepare_sequence, args=[tag_to_ix]).tolist()"
      ],
      "outputs": [],
      "execution_count": 27,
      "metadata": {}
    },
    {
      "cell_type": "code",
      "source": [
        "feats = pad_features(seq_ids, 150)"
      ],
      "outputs": [],
      "execution_count": 28,
      "metadata": {}
    },
    {
      "cell_type": "code",
      "source": [
        "label_ids"
      ],
      "outputs": [],
      "execution_count": null,
      "metadata": {}
    },
    {
      "cell_type": "code",
      "source": [
        "feats"
      ],
      "outputs": [
        {
          "output_type": "execute_result",
          "execution_count": 29,
          "data": {
            "text/plain": [
              "array([[   1,    2,    3, ...,    0,    0,    0],\n",
              "       [  17,   18,   19, ...,    0,    0,    0],\n",
              "       [  17,   39,   25, ...,    0,    0,    0],\n",
              "       ...,\n",
              "       [  87,  185,    3, ...,    0,    0,    0],\n",
              "       [ 122, 2832,   25, ...,    0,    0,    0],\n",
              "       [  87,  158,   17, ...,    0,    0,    0]])"
            ]
          },
          "metadata": {}
        }
      ],
      "execution_count": 29,
      "metadata": {}
    },
    {
      "cell_type": "code",
      "source": [
        "from sklearn.model_selection import StratifiedShuffleSplit"
      ],
      "outputs": [],
      "execution_count": 31,
      "metadata": {}
    },
    {
      "cell_type": "code",
      "source": [
        "sss = StratifiedShuffleSplit(n_splits=1, test_size=0.3, random_state=420)\n",
        "for train, test in sss.split(feats, label_ids):\n",
        "    train_X = feats[train]\n",
        "    train_y = np.array(label_ids)[train]\n",
        "    \n",
        "    test_X = feats[test]\n",
        "    test_y = np.array(label_ids)[test]"
      ],
      "outputs": [],
      "execution_count": 44,
      "metadata": {}
    },
    {
      "cell_type": "code",
      "source": [
        "# train_X = feats[0:int(0.75*len(feats))]\n",
        "# test_X = feats[int(0.75*len(feats)):]\n",
        "\n",
        "# train_y = label_ids[0:int(0.75*len(label_ids))]\n",
        "# test_y = label_ids[int(0.75*len(label_ids)):]"
      ],
      "outputs": [],
      "execution_count": 45,
      "metadata": {}
    },
    {
      "cell_type": "code",
      "source": [
        "train_X[0]"
      ],
      "outputs": [
        {
          "output_type": "execute_result",
          "execution_count": 46,
          "data": {
            "text/plain": [
              "array([  13,   82,   70, 2034,  284,   12,  135,   43,   29, 4993,  673,\n",
              "          6, 4993, 4357,  120,  781,  558,  202,  276,   74,  195, 1349,\n",
              "        195,  279,   82, 4993,   82,  548, 1143,   82, 1144, 2476,   70,\n",
              "        129,  282,  280,  281,    6, 2715,  306,   13,  281,  282,   48,\n",
              "       2106, 2107,   55,   58, 2108,   68, 2335,  767, 3746,   82, 2109,\n",
              "          0,    0,    0,    0,    0,    0,    0,    0,    0,    0,    0,\n",
              "          0,    0,    0,    0,    0,    0,    0,    0,    0,    0,    0,\n",
              "          0,    0,    0,    0,    0,    0,    0,    0,    0,    0,    0,\n",
              "          0,    0,    0,    0,    0,    0,    0,    0,    0,    0,    0,\n",
              "          0,    0,    0,    0,    0,    0,    0,    0,    0,    0,    0,\n",
              "          0,    0,    0,    0,    0,    0,    0,    0,    0,    0,    0,\n",
              "          0,    0,    0,    0,    0,    0,    0,    0,    0,    0,    0,\n",
              "          0,    0,    0,    0,    0,    0,    0,    0,    0,    0,    0,\n",
              "          0,    0,    0,    0,    0,    0,    0])"
            ]
          },
          "metadata": {}
        }
      ],
      "execution_count": 46,
      "metadata": {}
    },
    {
      "cell_type": "code",
      "source": [
        "train_y[0]"
      ],
      "outputs": [
        {
          "output_type": "execute_result",
          "execution_count": 47,
          "data": {
            "text/plain": [
              "0"
            ]
          },
          "metadata": {}
        }
      ],
      "execution_count": 47,
      "metadata": {}
    },
    {
      "cell_type": "code",
      "source": [
        "def next_batch(X,y):\n",
        "    i = 0\n",
        "    n = len(X)\n",
        "    \n",
        "    while i <= n:\n",
        "        yield X[i:i+BATCH_SIZE], y[i:i+BATCH_SIZE]\n",
        "        i = i + BATCH_SIZE"
      ],
      "outputs": [],
      "execution_count": 48,
      "metadata": {}
    },
    {
      "cell_type": "code",
      "source": [
        "for x, y in next_batch([0,1,2,3,4,5,6], [0,1,2,1,1,1,1]):\n",
        "    print(x,y)"
      ],
      "outputs": [
        {
          "output_type": "stream",
          "name": "stdout",
          "text": [
            "[0, 1, 2, 3, 4, 5, 6] [0, 1, 2, 1, 1, 1, 1]\n"
          ]
        }
      ],
      "execution_count": 49,
      "metadata": {}
    },
    {
      "cell_type": "code",
      "source": [
        "# model = model.cuda()\n",
        "\n",
        "for epoch in range(100):\n",
        "    print(f\"==================================={epoch}================================\")\n",
        "    train_loss = 0\n",
        "    train_acc = 0\n",
        "    train_idx = 0\n",
        "\n",
        "    test_loss = 0\n",
        "    test_acc = 0\n",
        "    test_idx = 0\n",
        "\n",
        "#     scheduler.step(epoch)\n",
        "#     for sentence, label in list(zip(train_X, train_y)):\n",
        "    for sentence, label in next_batch(train_X, train_y):\n",
        "        if len(sentence) < BATCH_SIZE:\n",
        "            continue\n",
        "#         print(sentence, label)\n",
        "        model.zero_grad()\n",
        "\n",
        "        tag_scores = model(torch.LongTensor(sentence).view(BATCH_SIZE,150).cuda())\n",
        "        loss = loss_fn(tag_scores, torch.LongTensor(label).cuda())\n",
        "#         print(loss)\n",
        "        train_loss += loss.item()\n",
        "        loss.backward()\n",
        "        optimizer.step()\n",
        "\n",
        "        train_acc += (tag_scores.argmax(1) == torch.LongTensor(label).cuda()).sum().item()\n",
        "        train_idx += BATCH_SIZE\n",
        "        \n",
        "    print(train_loss / train_idx)\n",
        "    print(train_acc / train_idx)\n",
        "        \n",
        "    \n",
        "    for sentence, label in next_batch(test_X, test_y):\n",
        "        if len(sentence) < BATCH_SIZE:\n",
        "            continue\n",
        "#         text, offsets, cls = text.to(device), offsets.to(device), cls.to(device)\n",
        "        with torch.no_grad():\n",
        "            tag_scores = model(torch.LongTensor(sentence).view(BATCH_SIZE,150).cuda())\n",
        "\n",
        "            loss = loss_fn(tag_scores.view(BATCH_SIZE,-1), torch.LongTensor(label).cuda())\n",
        "            test_loss += loss.item()\n",
        "            \n",
        "            test_acc += (tag_scores.argmax(1) == torch.LongTensor(label).cuda()).sum().item()\n",
        "            test_idx += BATCH_SIZE\n",
        "\n",
        "    print(test_loss / test_idx)\n",
        "    print(test_acc/ test_idx)\n",
        "\n"
      ],
      "outputs": [
        {
          "output_type": "stream",
          "name": "stdout",
          "text": [
            "===================================0================================\n",
            "0.16781754261599138\n",
            "0.5282451923076923\n",
            "0.1641502742740241\n",
            "0.5681818181818182\n",
            "===================================1================================\n",
            "0.1506988058009973\n",
            "0.7373798076923077\n",
            "0.16262866522778163\n",
            "0.6150568181818182\n",
            "===================================2================================\n",
            "0.14356621240194029\n",
            "0.8100961538461539\n",
            "0.16540299186652357\n",
            "0.5994318181818182\n",
            "===================================3================================\n",
            "0.1389083219692111\n",
            "0.8762019230769231\n",
            "0.16022068533030423\n",
            "0.625\n",
            "===================================4================================\n",
            "0.1342470356478141\n",
            "0.9146634615384616\n",
            "0.16159544309431856\n",
            "0.6349431818181818\n",
            "===================================5================================\n",
            "0.1316051329844273\n",
            "0.9459134615384616\n",
            "0.1608747819607908\n",
            "0.6292613636363636\n",
            "===================================6================================\n",
            "0.12875487125263765\n",
            "0.9573317307692307\n",
            "0.16590956327590076\n",
            "0.6150568181818182\n",
            "===================================7================================\n",
            "0.12625328924220341\n",
            "0.9723557692307693\n",
            "0.16391320797530087\n",
            "0.6420454545454546\n",
            "===================================8================================\n",
            "0.12598224328114435\n",
            "0.9765625\n",
            "0.16174954040483994\n",
            "0.671875\n",
            "===================================9================================\n",
            "0.12405660261328404\n",
            "0.9825721153846154\n",
            "0.16364179348403757\n",
            "0.671875\n",
            "===================================10================================\n",
            "0.12220779512650691\n",
            "0.9855769230769231\n",
            "0.1668678650801832\n",
            "0.6931818181818182\n",
            "===================================11================================\n",
            "0.12338299318574943\n",
            "0.9855769230769231\n",
            "0.165546502918005\n",
            "0.6761363636363636\n",
            "===================================12================================\n",
            "0.12190788941314587\n",
            "0.9873798076923077\n",
            "0.16387735645879398\n",
            "0.6846590909090909\n",
            "===================================13================================\n",
            "0.12125154742254661\n",
            "0.9885817307692307\n",
            "0.16196342997930266\n",
            "0.6860795454545454\n",
            "===================================14================================\n",
            "0.12074369493012245\n",
            "0.9933894230769231\n",
            "0.1614972579885613\n",
            "0.7102272727272727\n",
            "===================================15================================\n",
            "0.12050212733447552\n",
            "0.9933894230769231\n",
            "0.16164961355653676\n",
            "0.7059659090909091\n",
            "===================================16================================\n",
            "0.11981344595551491\n",
            "0.9921875\n",
            "0.16359758614139122\n",
            "0.6832386363636364\n",
            "===================================17================================\n",
            "0.1190628746811014\n",
            "0.9927884615384616\n",
            "0.16317201575095003\n",
            "0.6761363636363636\n",
            "===================================18================================\n",
            "0.11879137301674256\n",
            "0.9933894230769231\n",
            "0.16294972056692297\n",
            "0.6974431818181818\n",
            "===================================19================================\n",
            "0.11833221049836048\n",
            "0.9945913461538461\n",
            "0.1669164804572409\n",
            "0.7144886363636364\n",
            "===================================20================================\n",
            "0.11754809971898794\n",
            "0.9963942307692307\n",
            "0.16619637405330484\n",
            "0.7130681818181818\n",
            "===================================21================================\n",
            "0.11750738831380239\n",
            "0.9951923076923077\n",
            "0.16355736723000353\n",
            "0.7130681818181818\n",
            "===================================22================================\n",
            "0.11702232091472699\n",
            "0.9957932692307693\n",
            "0.1609061106362126\n",
            "0.734375\n",
            "===================================23================================\n",
            "0.11707119643688202\n",
            "0.9951923076923077\n",
            "0.16441098228096962\n",
            "0.7315340909090909\n",
            "===================================24================================\n",
            "0.11655349377542734\n",
            "0.9957932692307693\n",
            "0.16256813806566325\n",
            "0.7414772727272727\n",
            "===================================25================================\n",
            "0.11670963695416084\n",
            "0.9951923076923077\n",
            "0.16647905179045416\n",
            "0.7116477272727273\n",
            "===================================26================================\n",
            "0.11621110735890958\n",
            "0.9951923076923077\n",
            "0.15873787823048505\n",
            "0.7244318181818182\n",
            "===================================27================================\n",
            "0.11562202104295675\n",
            "0.9969951923076923\n",
            "0.16374724290587686\n",
            "0.7301136363636364\n",
            "===================================28================================\n",
            "0.11541361118165347\n",
            "0.9975961538461539\n",
            "0.16202205995267088\n",
            "0.7514204545454546\n",
            "===================================29================================\n",
            "0.11537728129098049\n",
            "0.9957932692307693\n",
            "0.1668293330479752\n",
            "0.7315340909090909\n",
            "===================================30================================\n",
            "0.1155817684932397\n",
            "0.9951923076923077\n",
            "0.16891130059957504\n",
            "0.7428977272727273\n",
            "===================================31================================\n",
            "0.11528658573157512\n",
            "0.9927884615384616\n",
            "0.16209564595059914\n",
            "0.7301136363636364\n",
            "===================================32================================\n",
            "0.11482161570053834\n",
            "0.9945913461538461\n",
            "0.16624352166598494\n",
            "0.7485795454545454\n",
            "===================================33================================\n",
            "0.1142726824260675\n",
            "0.9963942307692307\n",
            "0.16339294239878654\n",
            "0.7514204545454546\n",
            "===================================34================================\n",
            "0.11416642754696883\n",
            "0.9963942307692307\n",
            "0.16095805642279712\n",
            "0.75\n",
            "===================================35================================\n",
            "0.11436517257243395\n",
            "0.9963942307692307\n",
            "0.1627349592745304\n",
            "0.75\n",
            "===================================36================================\n",
            "0.11379716767428014\n",
            "0.9957932692307693\n",
            "0.16892675547437233\n",
            "0.7443181818181818\n",
            "===================================37================================\n",
            "0.11353637621952938\n",
            "0.9957932692307693\n",
            "0.1741894358261065\n",
            "0.7215909090909091\n",
            "===================================38================================\n",
            "0.11381686228112532\n",
            "0.9957932692307693\n",
            "0.17451030388474464\n",
            "0.7329545454545454\n",
            "===================================39================================\n",
            "0.11372829765941088\n",
            "0.9951923076923077\n",
            "0.1714778786355799\n",
            "0.7286931818181818\n",
            "===================================40================================\n",
            "0.11351220617787196\n",
            "0.9951923076923077\n",
            "0.17634406651962886\n",
            "0.7372159090909091\n",
            "===================================41================================\n",
            "0.11304588752010694\n",
            "0.9963942307692307\n",
            "0.17150435528971933\n",
            "0.7315340909090909\n",
            "===================================42================================\n",
            "0.11315581381607515\n",
            "0.9951923076923077\n",
            "0.18155615404248238\n",
            "0.7230113636363636\n",
            "===================================43================================\n",
            "0.112841514727244\n",
            "0.9957932692307693\n",
            "0.17658813399347392\n",
            "0.7116477272727273\n",
            "===================================44================================\n",
            "0.11366935554318704\n",
            "0.9951923076923077\n",
            "0.1828143550929698\n",
            "0.7357954545454546\n",
            "===================================45================================\n",
            "0.11276911843854648\n",
            "0.9969951923076923\n",
            "0.1793282895602963\n",
            "0.75\n",
            "===================================46================================\n",
            "0.11280827331714906\n",
            "0.9951923076923077\n",
            "0.1845487765967846\n",
            "0.7301136363636364\n",
            "===================================47================================\n",
            "0.11414848676381203\n",
            "0.9903846153846154\n",
            "0.17288267341527072\n",
            "0.7514204545454546\n",
            "===================================48================================\n",
            "0.11355786011196099\n",
            "0.9951923076923077\n",
            "0.172729195010933\n",
            "0.7301136363636364\n",
            "===================================49================================\n",
            "0.11235390001764664\n",
            "0.9969951923076923\n",
            "0.18780116736888885\n",
            "0.7428977272727273\n",
            "===================================50================================\n",
            "0.11190899275243282\n",
            "0.9975961538461539\n",
            "0.19034895673394203\n",
            "0.7357954545454546\n",
            "===================================51================================\n",
            "0.11202405894605014\n",
            "0.9951923076923077\n",
            "0.18826204233548857\n",
            "0.6846590909090909\n",
            "===================================52================================\n",
            "0.11241800638918693\n",
            "0.9957932692307693\n",
            "0.19356294450434772\n",
            "0.71875\n",
            "===================================53================================\n",
            "0.11224006911596426\n",
            "0.9963942307692307\n",
            "0.1904169429432262\n",
            "0.7357954545454546\n",
            "===================================54================================\n",
            "0.11173851157610233\n",
            "0.9963942307692307\n",
            "0.18770087882876396\n",
            "0.7286931818181818\n",
            "===================================55================================\n",
            "0.11167095716183002\n",
            "0.9975961538461539\n",
            "0.1999517059461637\n",
            "0.7457386363636364\n",
            "===================================56================================\n"
          ]
        },
        {
          "output_type": "error",
          "ename": "KeyboardInterrupt",
          "evalue": "",
          "traceback": [
            "\u001b[0;31m---------------------------------------------------------------------------\u001b[0m",
            "\u001b[0;31mKeyboardInterrupt\u001b[0m                         Traceback (most recent call last)",
            "\u001b[0;32m<ipython-input-50-a3670bdbcd29>\u001b[0m in \u001b[0;36m<module>\u001b[0;34m()\u001b[0m\n\u001b[1;32m     23\u001b[0m \u001b[0;31m#         print(loss)\u001b[0m\u001b[0;34m\u001b[0m\u001b[0;34m\u001b[0m\u001b[0m\n\u001b[1;32m     24\u001b[0m         \u001b[0mtrain_loss\u001b[0m \u001b[0;34m+=\u001b[0m \u001b[0mloss\u001b[0m\u001b[0;34m.\u001b[0m\u001b[0mitem\u001b[0m\u001b[0;34m(\u001b[0m\u001b[0;34m)\u001b[0m\u001b[0;34m\u001b[0m\u001b[0m\n\u001b[0;32m---> 25\u001b[0;31m         \u001b[0mloss\u001b[0m\u001b[0;34m.\u001b[0m\u001b[0mbackward\u001b[0m\u001b[0;34m(\u001b[0m\u001b[0;34m)\u001b[0m\u001b[0;34m\u001b[0m\u001b[0m\n\u001b[0m\u001b[1;32m     26\u001b[0m         \u001b[0moptimizer\u001b[0m\u001b[0;34m.\u001b[0m\u001b[0mstep\u001b[0m\u001b[0;34m(\u001b[0m\u001b[0;34m)\u001b[0m\u001b[0;34m\u001b[0m\u001b[0m\n\u001b[1;32m     27\u001b[0m \u001b[0;34m\u001b[0m\u001b[0m\n",
            "\u001b[0;32m~/anaconda3/envs/fastai/lib/python3.6/site-packages/torch/tensor.py\u001b[0m in \u001b[0;36mbackward\u001b[0;34m(self, gradient, retain_graph, create_graph)\u001b[0m\n\u001b[1;32m     91\u001b[0m                 \u001b[0mproducts\u001b[0m\u001b[0;34m.\u001b[0m \u001b[0mDefaults\u001b[0m \u001b[0mto\u001b[0m\u001b[0;31m \u001b[0m\u001b[0;31m`\u001b[0m\u001b[0;31m`\u001b[0m\u001b[0;32mFalse\u001b[0m\u001b[0;31m`\u001b[0m\u001b[0;31m`\u001b[0m\u001b[0;34m.\u001b[0m\u001b[0;34m\u001b[0m\u001b[0m\n\u001b[1;32m     92\u001b[0m         \"\"\"\n\u001b[0;32m---> 93\u001b[0;31m         \u001b[0mtorch\u001b[0m\u001b[0;34m.\u001b[0m\u001b[0mautograd\u001b[0m\u001b[0;34m.\u001b[0m\u001b[0mbackward\u001b[0m\u001b[0;34m(\u001b[0m\u001b[0mself\u001b[0m\u001b[0;34m,\u001b[0m \u001b[0mgradient\u001b[0m\u001b[0;34m,\u001b[0m \u001b[0mretain_graph\u001b[0m\u001b[0;34m,\u001b[0m \u001b[0mcreate_graph\u001b[0m\u001b[0;34m)\u001b[0m\u001b[0;34m\u001b[0m\u001b[0m\n\u001b[0m\u001b[1;32m     94\u001b[0m \u001b[0;34m\u001b[0m\u001b[0m\n\u001b[1;32m     95\u001b[0m     \u001b[0;32mdef\u001b[0m \u001b[0mregister_hook\u001b[0m\u001b[0;34m(\u001b[0m\u001b[0mself\u001b[0m\u001b[0;34m,\u001b[0m \u001b[0mhook\u001b[0m\u001b[0;34m)\u001b[0m\u001b[0;34m:\u001b[0m\u001b[0;34m\u001b[0m\u001b[0m\n",
            "\u001b[0;32m~/anaconda3/envs/fastai/lib/python3.6/site-packages/torch/autograd/__init__.py\u001b[0m in \u001b[0;36mbackward\u001b[0;34m(tensors, grad_tensors, retain_graph, create_graph, grad_variables)\u001b[0m\n\u001b[1;32m     88\u001b[0m     Variable._execution_engine.run_backward(\n\u001b[1;32m     89\u001b[0m         \u001b[0mtensors\u001b[0m\u001b[0;34m,\u001b[0m \u001b[0mgrad_tensors\u001b[0m\u001b[0;34m,\u001b[0m \u001b[0mretain_graph\u001b[0m\u001b[0;34m,\u001b[0m \u001b[0mcreate_graph\u001b[0m\u001b[0;34m,\u001b[0m\u001b[0;34m\u001b[0m\u001b[0m\n\u001b[0;32m---> 90\u001b[0;31m         allow_unreachable=True)  # allow_unreachable flag\n\u001b[0m\u001b[1;32m     91\u001b[0m \u001b[0;34m\u001b[0m\u001b[0m\n\u001b[1;32m     92\u001b[0m \u001b[0;34m\u001b[0m\u001b[0m\n",
            "\u001b[0;31mKeyboardInterrupt\u001b[0m: "
          ]
        }
      ],
      "execution_count": 50,
      "metadata": {
        "scrolled": true
      }
    },
    {
      "cell_type": "code",
      "source": [
        "import sklearn\n",
        "\n",
        "sklearn.__version__"
      ],
      "outputs": [
        {
          "output_type": "execute_result",
          "execution_count": 54,
          "data": {
            "text/plain": [
              "'0.19.1'"
            ]
          },
          "metadata": {}
        }
      ],
      "execution_count": 54,
      "metadata": {}
    },
    {
      "cell_type": "code",
      "source": [
        "from sklearn.metrics import classification_report"
      ],
      "outputs": [],
      "execution_count": 55,
      "metadata": {}
    },
    {
      "cell_type": "code",
      "source": [],
      "outputs": [],
      "execution_count": null,
      "metadata": {}
    },
    {
      "cell_type": "code",
      "source": [
        "y_preds = []\n",
        "y_true = []\n",
        "for sentence, label in next_batch(test_X, test_y):\n",
        "        if len(sentence) < BATCH_SIZE:\n",
        "            continue\n",
        "#         text, offsets, cls = text.to(device), offsets.to(device), cls.to(device)\n",
        "        with torch.no_grad():\n",
        "            tag_scores = model(torch.LongTensor(sentence).view(BATCH_SIZE,150).cuda())\n",
        "            print(\"***********\")\n",
        "#             print(tag_scores.shape)\n",
        "#             print(tag_scores.view(BATCH_SIZE,-1).shape)\n",
        "            loss = loss_fn(tag_scores, torch.LongTensor(label).cuda())\n",
        "            test_loss += loss.item()\n",
        "            \n",
        "#             print(tag_scores.shape)\n",
        "            print(tag_scores.argmax(1))\n",
        "            print(label)\n",
        "            \n",
        "            y_preds.append(tag_scores.argmax(1).cpu().numpy())\n",
        "            y_true.append(label)\n",
        "            test_acc += (tag_scores.argmax(1) == torch.LongTensor(label).cuda()).sum().item()\n",
        "            test_idx += BATCH_SIZE\n",
        "            \n",
        "            print(test_acc/ test_idx)\n"
      ],
      "outputs": [],
      "execution_count": null,
      "metadata": {}
    },
    {
      "cell_type": "code",
      "source": [
        "y_true = np.array(y_true).flatten()"
      ],
      "outputs": [],
      "execution_count": 69,
      "metadata": {}
    },
    {
      "cell_type": "code",
      "source": [
        "y_preds = np.array(y_preds).flatten()"
      ],
      "outputs": [],
      "execution_count": 71,
      "metadata": {}
    },
    {
      "cell_type": "code",
      "source": [
        "print(classification_report(y_true, y_preds, target_names=[\"bad\", \"neutral\", \"good\"]))"
      ],
      "outputs": [
        {
          "output_type": "stream",
          "name": "stdout",
          "text": [
            "             precision    recall  f1-score   support\n",
            "\n",
            "        bad       0.77      0.81      0.79       320\n",
            "    neutral       0.73      0.76      0.74       217\n",
            "       good       0.67      0.57      0.62       167\n",
            "\n",
            "avg / total       0.73      0.74      0.73       704\n",
            "\n"
          ]
        }
      ],
      "execution_count": 72,
      "metadata": {}
    },
    {
      "cell_type": "code",
      "source": [
        "import itertools\n",
        "import matplotlib.pyplot as plt\n",
        "%matplotlib inline\n",
        "\n",
        "def plot_confusion_matrix(cm, classes,\n",
        "                          normalize=False,\n",
        "                          title='Confusion matrix',\n",
        "                          cmap=plt.cm.Blues):\n",
        "    \"\"\"\n",
        "    This function prints and plots the confusion matrix.\n",
        "    Normalization can be applied by setting `normalize=True`.\n",
        "    \"\"\"\n",
        "    if normalize:\n",
        "        cm = cm.astype('float') / cm.sum(axis=1)[:, np.newaxis]\n",
        "        print(\"Normalized confusion matrix\")\n",
        "    else:\n",
        "        print('Confusion matrix, without normalization')\n",
        "\n",
        "    print(cm)\n",
        "\n",
        "    plt.imshow(cm, interpolation='nearest', cmap=cmap)\n",
        "    plt.title(title)\n",
        "    plt.colorbar()\n",
        "    tick_marks = np.arange(len(classes))\n",
        "    plt.xticks(tick_marks, classes, rotation=45)\n",
        "    plt.yticks(tick_marks, classes)\n",
        "\n",
        "    fmt = '.2f' if normalize else 'd'\n",
        "    thresh = cm.max() / 2.\n",
        "    for i, j in itertools.product(range(cm.shape[0]), range(cm.shape[1])):\n",
        "        plt.text(j, i, format(cm[i, j], fmt),\n",
        "                 horizontalalignment=\"center\",\n",
        "                 color=\"white\" if cm[i, j] > thresh else \"black\")\n",
        "\n",
        "    plt.tight_layout()\n",
        "    plt.ylabel('True label')\n",
        "    plt.xlabel('Predicted label')"
      ],
      "outputs": [],
      "execution_count": 82,
      "metadata": {}
    },
    {
      "cell_type": "code",
      "source": [
        "from sklearn.metrics import confusion_matrix\n",
        "\n",
        "cnf_matrix = confusion_matrix(y_true, y_preds)\n"
      ],
      "outputs": [],
      "execution_count": 83,
      "metadata": {}
    },
    {
      "cell_type": "code",
      "source": [
        "plot_confusion_matrix(cnf_matrix, classes=[\"bad\", \"neutral\", \"good\"],\n",
        "                      title='Confusion matrix, without normalization')\n",
        "plt.show()"
      ],
      "outputs": [
        {
          "output_type": "stream",
          "name": "stdout",
          "text": [
            "Confusion matrix, without normalization\n",
            "[[259  36  25]\n",
            " [ 31 164  22]\n",
            " [ 47  24  96]]\n"
          ]
        },
        {
          "output_type": "display_data",
          "data": {
            "image/png": "[encoded data removed]",
            "text/plain": [
              "<Figure size 432x288 with 2 Axes>"
            ]
          },
          "metadata": {}
        }
      ],
      "execution_count": 84,
      "metadata": {}
    },
    {
      "cell_type": "code",
      "source": [],
      "outputs": [],
      "execution_count": null,
      "metadata": {}
    }
  ],
  "metadata": {
    "kernelspec": {
      "display_name": "Python 3",
      "language": "python",
      "name": "python3"
    },
    "language_info": {
      "codemirror_mode": {
        "name": "ipython",
        "version": 3
      },
      "file_extension": ".py",
      "mimetype": "text/x-python",
      "name": "python",
      "nbconvert_exporter": "python",
      "pygments_lexer": "ipython3",
      "version": "3.6.6"
    },
    "nteract": {
      "version": "0.21.0"
    }
  },
  "nbformat": 4,
  "nbformat_minor": 2
}
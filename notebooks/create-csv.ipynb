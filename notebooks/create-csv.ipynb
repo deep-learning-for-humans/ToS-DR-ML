{
  "cells": [
    {
      "cell_type": "code",
      "source": [
        "import os\n",
        "import json\n",
        "import re\n",
        "\n",
        "import pandas as pd"
      ],
      "outputs": [],
      "execution_count": 39,
      "metadata": {}
    },
    {
      "cell_type": "code",
      "source": [
        "json_data = json.load(open('../res/data/10minutemail.json'))"
      ],
      "outputs": [],
      "execution_count": 22,
      "metadata": {}
    },
    {
      "cell_type": "code",
      "source": [
        "json_data['points']"
      ],
      "outputs": [
        {
          "output_type": "execute_result",
          "execution_count": 23,
          "data": {
            "text/plain": [
              "['5309', '5310']"
            ]
          },
          "metadata": {}
        }
      ],
      "execution_count": 23,
      "metadata": {}
    },
    {
      "cell_type": "code",
      "source": [],
      "outputs": [],
      "execution_count": 24,
      "metadata": {}
    },
    {
      "cell_type": "code",
      "source": [
        "def get_table_data(filename, json_data):\n",
        "    table_data = []\n",
        "    \n",
        "    for p in json_data['points']:\n",
        "        point = json_data['pointsData'][p]\n",
        "        if 'quoteText' in point.keys():\n",
        "\n",
        "            result = point['quoteText'].replace(\"\\n\", \" \")\n",
        "\n",
        "            regex = r\"<[^>]*>\"\n",
        "            subst = \"\"\n",
        "            result = re.sub(regex, subst, result, 0, re.MULTILINE)\n",
        "            print(result)\n",
        "\n",
        "            result = result.strip().lower()\n",
        "\n",
        "            table_data.append({\n",
        "                'data': result,\n",
        "                'score': point['tosdr']['score'],\n",
        "                'class': point['tosdr']['point'],\n",
        "                'filename': filename\n",
        "            })\n",
        "            \n",
        "    return table_data"
      ],
      "outputs": [],
      "execution_count": 64,
      "metadata": {}
    },
    {
      "cell_type": "code",
      "source": [
        "all_data = []\n",
        "for f in os.listdir('../res/data'):\n",
        "    print(f\"======={f}===========\")\n",
        "    json_data = json.load(open(f'../res/data/{f}'))\n",
        "    \n",
        "    srv_table_data = get_table_data(f, json_data)\n",
        "    all_data.extend(srv_table_data)"
      ],
      "outputs": [],
      "execution_count": null,
      "metadata": {}
    },
    {
      "cell_type": "code",
      "source": [
        "df = pd.DataFrame(all_data)"
      ],
      "outputs": [],
      "execution_count": 67,
      "metadata": {}
    },
    {
      "cell_type": "code",
      "source": [
        "%matplotlib inline\n",
        "df['class'].hist()"
      ],
      "outputs": [
        {
          "output_type": "execute_result",
          "execution_count": 69,
          "data": {
            "text/plain": [
              "<matplotlib.axes._subplots.AxesSubplot at 0x11c9a1f10>"
            ]
          },
          "metadata": {}
        },
        {
          "output_type": "display_data",
          "data": {
            "image/png": "[encoded data removed]",
            "text/plain": [
              "<Figure size 432x288 with 1 Axes>"
            ]
          },
          "metadata": {
            "needs_background": "light"
          }
        }
      ],
      "execution_count": 69,
      "metadata": {}
    },
    {
      "cell_type": "code",
      "source": [
        "df['score'] = df['score'].astype('int')"
      ],
      "outputs": [],
      "execution_count": 70,
      "metadata": {}
    },
    {
      "cell_type": "code",
      "source": [
        "df.head()"
      ],
      "outputs": [
        {
          "output_type": "execute_result",
          "execution_count": 71,
          "data": {
            "text/html": [
              "<div>\n",
              "<style scoped>\n",
              "    .dataframe tbody tr th:only-of-type {\n",
              "        vertical-align: middle;\n",
              "    }\n",
              "\n",
              "    .dataframe tbody tr th {\n",
              "        vertical-align: top;\n",
              "    }\n",
              "\n",
              "    .dataframe thead th {\n",
              "        text-align: right;\n",
              "    }\n",
              "</style>\n",
              "<table border=\"1\" class=\"dataframe\">\n",
              "  <thead>\n",
              "    <tr style=\"text-align: right;\">\n",
              "      <th></th>\n",
              "      <th>data</th>\n",
              "      <th>score</th>\n",
              "      <th>class</th>\n",
              "      <th>filename</th>\n",
              "    </tr>\n",
              "  </thead>\n",
              "  <tbody>\n",
              "    <tr>\n",
              "      <th>0</th>\n",
              "      <td>signal does not sell, rent or monetize your pe...</td>\n",
              "      <td>25</td>\n",
              "      <td>good</td>\n",
              "      <td>signal.json</td>\n",
              "    </tr>\n",
              "    <tr>\n",
              "      <th>1</th>\n",
              "      <td>you must be at least 13 years old to use our s...</td>\n",
              "      <td>15</td>\n",
              "      <td>neutral</td>\n",
              "      <td>signal.json</td>\n",
              "    </tr>\n",
              "    <tr>\n",
              "      <th>2</th>\n",
              "      <td>you agree to resolve any claim you have with u...</td>\n",
              "      <td>0</td>\n",
              "      <td>neutral</td>\n",
              "      <td>signal.json</td>\n",
              "    </tr>\n",
              "    <tr>\n",
              "      <th>3</th>\n",
              "      <td>we may modify, suspend, or terminate your acce...</td>\n",
              "      <td>60</td>\n",
              "      <td>bad</td>\n",
              "      <td>signal.json</td>\n",
              "    </tr>\n",
              "    <tr>\n",
              "      <th>4</th>\n",
              "      <td>we work with third parties to provide some of ...</td>\n",
              "      <td>15</td>\n",
              "      <td>bad</td>\n",
              "      <td>signal.json</td>\n",
              "    </tr>\n",
              "  </tbody>\n",
              "</table>\n",
              "</div>"
            ],
            "text/plain": [
              "                                                data  score    class  \\\n",
              "0  signal does not sell, rent or monetize your pe...     25     good   \n",
              "1  you must be at least 13 years old to use our s...     15  neutral   \n",
              "2  you agree to resolve any claim you have with u...      0  neutral   \n",
              "3  we may modify, suspend, or terminate your acce...     60      bad   \n",
              "4  we work with third parties to provide some of ...     15      bad   \n",
              "\n",
              "      filename  \n",
              "0  signal.json  \n",
              "1  signal.json  \n",
              "2  signal.json  \n",
              "3  signal.json  \n",
              "4  signal.json  "
            ]
          },
          "metadata": {}
        }
      ],
      "execution_count": 71,
      "metadata": {}
    },
    {
      "cell_type": "code",
      "source": [
        "df.loc[df.score>70]"
      ],
      "outputs": [
        {
          "output_type": "execute_result",
          "execution_count": 73,
          "data": {
            "text/html": [
              "<div>\n",
              "<style scoped>\n",
              "    .dataframe tbody tr th:only-of-type {\n",
              "        vertical-align: middle;\n",
              "    }\n",
              "\n",
              "    .dataframe tbody tr th {\n",
              "        vertical-align: top;\n",
              "    }\n",
              "\n",
              "    .dataframe thead th {\n",
              "        text-align: right;\n",
              "    }\n",
              "</style>\n",
              "<table border=\"1\" class=\"dataframe\">\n",
              "  <thead>\n",
              "    <tr style=\"text-align: right;\">\n",
              "      <th></th>\n",
              "      <th>data</th>\n",
              "      <th>score</th>\n",
              "      <th>class</th>\n",
              "      <th>filename</th>\n",
              "    </tr>\n",
              "  </thead>\n",
              "  <tbody>\n",
              "    <tr>\n",
              "      <th>117</th>\n",
              "      <td>gitlab is an open source project</td>\n",
              "      <td>90</td>\n",
              "      <td>good</td>\n",
              "      <td>gitlab.json</td>\n",
              "    </tr>\n",
              "    <tr>\n",
              "      <th>188</th>\n",
              "      <td>apple and our partners and licensees may colle...</td>\n",
              "      <td>75</td>\n",
              "      <td>bad</td>\n",
              "      <td>apple.json</td>\n",
              "    </tr>\n",
              "    <tr>\n",
              "      <th>193</th>\n",
              "      <td>we may collect information about the general l...</td>\n",
              "      <td>80</td>\n",
              "      <td>bad</td>\n",
              "      <td>newegg-com.json</td>\n",
              "    </tr>\n",
              "    <tr>\n",
              "      <th>198</th>\n",
              "      <td>when you post or transmit content on, to, or t...</td>\n",
              "      <td>80</td>\n",
              "      <td>bad</td>\n",
              "      <td>newegg-com.json</td>\n",
              "    </tr>\n",
              "    <tr>\n",
              "      <th>218</th>\n",
              "      <td>no personal data is kept in logs for more than...</td>\n",
              "      <td>80</td>\n",
              "      <td>good</td>\n",
              "      <td>jetbrains.json</td>\n",
              "    </tr>\n",
              "    <tr>\n",
              "      <th>...</th>\n",
              "      <td>...</td>\n",
              "      <td>...</td>\n",
              "      <td>...</td>\n",
              "      <td>...</td>\n",
              "    </tr>\n",
              "    <tr>\n",
              "      <th>2374</th>\n",
              "      <td>we may retain access logs containing this data...</td>\n",
              "      <td>80</td>\n",
              "      <td>good</td>\n",
              "      <td>openhumans.json</td>\n",
              "    </tr>\n",
              "    <tr>\n",
              "      <th>2408</th>\n",
              "      <td>other information we collect:   website: when ...</td>\n",
              "      <td>100</td>\n",
              "      <td>good</td>\n",
              "      <td>goodtodo.json</td>\n",
              "    </tr>\n",
              "    <tr>\n",
              "      <th>2418</th>\n",
              "      <td>all our titles are published under the most fl...</td>\n",
              "      <td>90</td>\n",
              "      <td>good</td>\n",
              "      <td>openbookpublishers.json</td>\n",
              "    </tr>\n",
              "    <tr>\n",
              "      <th>2437</th>\n",
              "      <td>we do not use cookies or any other tracking te...</td>\n",
              "      <td>100</td>\n",
              "      <td>good</td>\n",
              "      <td>tos;dr.json</td>\n",
              "    </tr>\n",
              "    <tr>\n",
              "      <th>2443</th>\n",
              "      <td>we do not use cookies or any other tracking te...</td>\n",
              "      <td>100</td>\n",
              "      <td>good</td>\n",
              "      <td>tos;dr.json</td>\n",
              "    </tr>\n",
              "  </tbody>\n",
              "</table>\n",
              "<p>73 rows × 4 columns</p>\n",
              "</div>"
            ],
            "text/plain": [
              "                                                   data  score class  \\\n",
              "117                    gitlab is an open source project     90  good   \n",
              "188   apple and our partners and licensees may colle...     75   bad   \n",
              "193   we may collect information about the general l...     80   bad   \n",
              "198   when you post or transmit content on, to, or t...     80   bad   \n",
              "218   no personal data is kept in logs for more than...     80  good   \n",
              "...                                                 ...    ...   ...   \n",
              "2374  we may retain access logs containing this data...     80  good   \n",
              "2408  other information we collect:   website: when ...    100  good   \n",
              "2418  all our titles are published under the most fl...     90  good   \n",
              "2437  we do not use cookies or any other tracking te...    100  good   \n",
              "2443  we do not use cookies or any other tracking te...    100  good   \n",
              "\n",
              "                     filename  \n",
              "117               gitlab.json  \n",
              "188                apple.json  \n",
              "193           newegg-com.json  \n",
              "198           newegg-com.json  \n",
              "218            jetbrains.json  \n",
              "...                       ...  \n",
              "2374          openhumans.json  \n",
              "2408            goodtodo.json  \n",
              "2418  openbookpublishers.json  \n",
              "2437              tos;dr.json  \n",
              "2443              tos;dr.json  \n",
              "\n",
              "[73 rows x 4 columns]"
            ]
          },
          "metadata": {}
        }
      ],
      "execution_count": 73,
      "metadata": {}
    },
    {
      "cell_type": "code",
      "source": [
        "df.to_csv('../res/processed-data/tos.csv')"
      ],
      "outputs": [],
      "execution_count": 74,
      "metadata": {}
    },
    {
      "cell_type": "code",
      "source": [],
      "outputs": [],
      "execution_count": null,
      "metadata": {}
    }
  ],
  "metadata": {
    "kernelspec": {
      "display_name": "Python 3",
      "language": "python",
      "name": "python3"
    },
    "language_info": {
      "codemirror_mode": {
        "name": "ipython",
        "version": 3
      },
      "file_extension": ".py",
      "mimetype": "text/x-python",
      "name": "python",
      "nbconvert_exporter": "python",
      "pygments_lexer": "ipython3",
      "version": "3.7.6"
    },
    "nteract": {
      "version": "0.21.0"
    }
  },
  "nbformat": 4,
  "nbformat_minor": 2
}
{
 "cells": [
  {
   "cell_type": "code",
   "execution_count": 1,
   "metadata": {},
   "outputs": [],
   "source": [
    "from bs4 import BeautifulSoup\n",
    "from pathlib import Path"
   ]
  },
  {
   "cell_type": "code",
   "execution_count": 16,
   "metadata": {},
   "outputs": [],
   "source": [
    "def clean_html(doc):\n",
    "    \"\"\"\n",
    "    Clean HTML document and return a single string of content\n",
    "    \n",
    "    Arguments:\n",
    "        doc {string} -- Raw HTML content\n",
    "    Returns:\n",
    "        string -- text content of the HTML doc\n",
    "    \"\"\"\n",
    "    \n",
    "    soup = BeautifulSoup(doc, \"html.parser\")\n",
    "    \n",
    "    clean_content = []\n",
    "    for content in soup.strings:\n",
    "        if content == \"\\n\":\n",
    "            continue\n",
    "        else:\n",
    "            clean_content.append(content.replace(\"\\n\", \" \"))\n",
    "            \n",
    "    clean_doc = \" \".join(clean_content).strip()\n",
    "        \n",
    "    return clean_doc"
   ]
  },
  {
   "cell_type": "code",
   "execution_count": 16,
   "metadata": {},
   "outputs": [],
   "source": [
    "with open(\"../tos.txt\", \"r\") as f:\n",
    "    doc = f.read()\n",
    "    \n",
    "    clean_doc = clean_html(doc)\n",
    "#     print(clean_doc)"
   ]
  },
  {
   "cell_type": "code",
   "execution_count": 6,
   "metadata": {},
   "outputs": [],
   "source": [
    "src_data_folder = Path(\"/Users/raghothams/code/ToSBack2/crawl_reviewed\")\n",
    "dst_data_folder = \"/Users/raghothams/code/tosdr-ml/res/processed-data\""
   ]
  },
  {
   "cell_type": "markdown",
   "metadata": {},
   "source": [
    "## Iterate ToSBack2 folder for HTML files & generate clean text"
   ]
  },
  {
   "cell_type": "code",
   "execution_count": null,
   "metadata": {},
   "outputs": [],
   "source": [
    "# iterate source data directory\n",
    "for dir in src_data_folder.iterdir():\n",
    "    \n",
    "    # if not a directory, ignore\n",
    "    if not dir.is_dir():\n",
    "        continue\n",
    "    print(f\"==================={dir.name}================\")\n",
    "    \n",
    "    # create folder in dst path\n",
    "    new_folder = Path.joinpath(dst_data_folder, dir.name)\n",
    "    new_folder.mkdir(exist_ok=True)\n",
    "     \n",
    "    # iterate service folder for tos files\n",
    "    for file in dir.iterdir():\n",
    "\n",
    "        if not file.is_file() or file.name is \".DS_Store\":\n",
    "            continue\n",
    "        \n",
    "        print(f\"Processing file: {file.name}\")\n",
    "        \n",
    "        with file.open(\"r\") as f:\n",
    "            doc = f.read()\n",
    "            clean_doc = clean_html(doc)\n",
    "            \n",
    "        new_file = Path.joinpath(dst_data_folder, dir.name, file.name)\n",
    "        \n",
    "        new_file.write_text(clean_doc)\n",
    "        "
   ]
  },
  {
   "cell_type": "code",
   "execution_count": null,
   "metadata": {},
   "outputs": [],
   "source": []
  }
 ],
 "metadata": {
  "kernelspec": {
   "display_name": "Python 3",
   "language": "python",
   "name": "python3"
  },
  "language_info": {
   "codemirror_mode": {
    "name": "ipython",
    "version": 3
   },
   "file_extension": ".py",
   "mimetype": "text/x-python",
   "name": "python",
   "nbconvert_exporter": "python",
   "pygments_lexer": "ipython3",
   "version": "3.7.6"
  }
 },
 "nbformat": 4,
 "nbformat_minor": 2
}

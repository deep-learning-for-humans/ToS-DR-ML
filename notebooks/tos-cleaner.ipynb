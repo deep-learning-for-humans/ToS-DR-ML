{
 "cells": [
  {
   "cell_type": "code",
   "execution_count": 1,
   "metadata": {},
   "outputs": [],
   "source": [
    "from bs4 import BeautifulSoup"
   ]
  },
  {
   "cell_type": "code",
   "execution_count": 14,
   "metadata": {},
   "outputs": [],
   "source": [
    "def clean_html(doc):\n",
    "    \"\"\"\n",
    "    Clean HTML document and return a single string of content\n",
    "    \n",
    "    Arguments:\n",
    "        doc {string} -- Raw HTML content\n",
    "    Returns:\n",
    "        string -- text content of the HTML doc\n",
    "    \"\"\"\n",
    "    \n",
    "    soup = BeautifulSoup(doc, \"html.parser\")\n",
    "    \n",
    "    clean_content = []\n",
    "    for content in soup.strings:\n",
    "        if content == \"\\n\":\n",
    "            continue\n",
    "        else:\n",
    "            clean_content.append(content.replace(\"\\n\", \" \"))\n",
    "            \n",
    "    clean_doc = \" \".join(clean_content).strip()\n",
    "        \n",
    "    return clean_doc"
   ]
  },
  {
   "cell_type": "code",
   "execution_count": 16,
   "metadata": {},
   "outputs": [],
   "source": [
    "with open(\"../tos.txt\", \"r\") as f:\n",
    "    doc = f.read()\n",
    "    \n",
    "    clean_doc = clean_html(doc)\n",
    "#     print(clean_doc)"
   ]
  },
  {
   "cell_type": "code",
   "execution_count": null,
   "metadata": {},
   "outputs": [],
   "source": []
  }
 ],
 "metadata": {
  "kernelspec": {
   "display_name": "Python 3",
   "language": "python",
   "name": "python3"
  },
  "language_info": {
   "codemirror_mode": {
    "name": "ipython",
    "version": 3
   },
   "file_extension": ".py",
   "mimetype": "text/x-python",
   "name": "python",
   "nbconvert_exporter": "python",
   "pygments_lexer": "ipython3",
   "version": "3.7.6"
  }
 },
 "nbformat": 4,
 "nbformat_minor": 2
}
